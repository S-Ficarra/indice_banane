{
 "cells": [
  {
   "cell_type": "markdown",
   "metadata": {},
   "source": [
    "# Imports"
   ]
  },
  {
   "cell_type": "code",
   "execution_count": 4,
   "metadata": {},
   "outputs": [],
   "source": [
    "import requests\n",
    "from bs4 import BeautifulSoup\n",
    "import pandas\n",
    "import os\n",
    "import csv"
   ]
  },
  {
   "cell_type": "markdown",
   "metadata": {},
   "source": [
    "# Variables"
   ]
  },
  {
   "cell_type": "code",
   "execution_count": 5,
   "metadata": {},
   "outputs": [],
   "source": [
    "link_list = pandas.read_csv('../data/clean_urls_list.csv')\n",
    "urls = link_list['urls']\n",
    "headers = {\n",
    "    'User-Agent': 'Mozilla/5.0 (Windows NT 10.0; Win64; x64) AppleWebKit/537.36 (KHTML, like Gecko) Chrome/91.0.4472.124 Safari/537.36'\n",
    "}"
   ]
  },
  {
   "cell_type": "markdown",
   "metadata": {},
   "source": [
    "# Functions"
   ]
  },
  {
   "cell_type": "code",
   "execution_count": 6,
   "metadata": {},
   "outputs": [],
   "source": [
    "def get_name(urls_to_iterate) : \n",
    "    print('getting city names .', end=' ')\n",
    "    cities_names = []\n",
    "    for url in urls_to_iterate : \n",
    "        response = requests.get(url, headers=headers)\n",
    "        soup = BeautifulSoup(response.content, 'html.parser')\n",
    "        breadcrumb_nav = soup.find(\"nav\", class_=\"breadcrumb\")\n",
    "        breadcrumb_items = breadcrumb_nav.find_all(\"a\", class_=\"breadcrumb_link\")\n",
    "        city_name = breadcrumb_items[2].span.text            \n",
    "        cities_names.append(city_name)\n",
    "        print('.', end=' ', flush=True)\n",
    "    print()\n",
    "    return cities_names"
   ]
  },
  {
   "cell_type": "code",
   "execution_count": 7,
   "metadata": {},
   "outputs": [],
   "source": [
    "def get_price(urls_to_iterate, food) :\n",
    "    print(f'getting {food} prices .', end=' ') \n",
    "    food_price = []\n",
    "    for url in urls_to_iterate : \n",
    "        response = requests.get(url, headers=headers)\n",
    "        soup = BeautifulSoup(response.content, 'html.parser')\n",
    "        food_td = soup.select_one(f\"td:-soup-contains('{food}')\")\n",
    "        next_td = food_td.find_next_sibling(\"td\")\n",
    "        price_span = next_td.find('span', class_='first_currency')\n",
    "        if price_span.text == '?' : \n",
    "            food_price.append('Null')\n",
    "            continue\n",
    "        price_value = float(price_span.text.replace('$', '').strip())\n",
    "        food_price.append(price_value)\n",
    "        print('.', end=' ', flush=True)\n",
    "    print()\n",
    "    return food_price"
   ]
  },
  {
   "cell_type": "code",
   "execution_count": 8,
   "metadata": {},
   "outputs": [],
   "source": [
    "def get_price_per_city(urls, food):\n",
    "    cities = get_name(urls)\n",
    "    prices = get_price(urls, food)\n",
    "    \n",
    "    if len(cities) != len(prices):\n",
    "        print(\"Error, number of cities and prices not equal.\")\n",
    "        return\n",
    "    \n",
    "    data = {'City': cities, f'{food} Price': prices}\n",
    "    df = pandas.DataFrame(data)\n",
    "    return df"
   ]
  },
  {
   "cell_type": "markdown",
   "metadata": {},
   "source": [
    "# Data collection"
   ]
  },
  {
   "cell_type": "code",
   "execution_count": 9,
   "metadata": {},
   "outputs": [],
   "source": [
    "items = {\n",
    "  0: \"Milk\",\n",
    "  1: \"Loaf of Fresh White Bread\",\n",
    "  2: \"Rice\",\n",
    "  3: \"Eggs\",\n",
    "  4: \"Local Cheese\",\n",
    "  5: \"Chicken Fillets\",\n",
    "  6: \"Beef Round\",\n",
    "  7: \"Apples\",\n",
    "  8: \"Banana\",\n",
    "  9: \"Oranges\",\n",
    "  10: \"Tomato\",\n",
    "  11: \"Potato\",\n",
    "  12: \"Onion\",\n",
    "  13: \"Lettuce\",\n",
    "  14: \"Water\",\n",
    "  15: \"Bottle of Wine\",\n",
    "  16: \"Domestic Beer\",\n",
    "  17: \"Imported Beer\",\n",
    "  18: \"Cigarettes 20 Pack\"\n",
    "};"
   ]
  },
  {
   "cell_type": "markdown",
   "metadata": {},
   "source": [
    "This cell below can be adapted with custom variable name and custom item index to get the data you're interested in. <br>\n",
    "*(exemple below is for banana and milk)*"
   ]
  },
  {
   "cell_type": "code",
   "execution_count": null,
   "metadata": {},
   "outputs": [],
   "source": [
    "banana_price = get_price_per_city(urls, items[8])\n",
    "milk_price = get_price_per_city(urls, items[0])"
   ]
  },
  {
   "cell_type": "markdown",
   "metadata": {},
   "source": [
    "# Save Data"
   ]
  },
  {
   "cell_type": "code",
   "execution_count": 11,
   "metadata": {},
   "outputs": [],
   "source": [
    "project_root = os.path.abspath(os.path.join(os.getcwd(), '..'))\n",
    "output_path = os.path.join(project_root, 'data', 'banana_price.csv')\n",
    "\n",
    "banana_price.to_csv(output_path, index=False)"
   ]
  },
  {
   "cell_type": "code",
   "execution_count": 12,
   "metadata": {},
   "outputs": [],
   "source": [
    "project_root = os.path.abspath(os.path.join(os.getcwd(), '..'))\n",
    "output_path = os.path.join(project_root, 'data', 'milk_price.csv')\n",
    "\n",
    "milk_price.to_csv(output_path, index=False)"
   ]
  }
 ],
 "metadata": {
  "kernelspec": {
   "display_name": "Python 3",
   "language": "python",
   "name": "python3"
  },
  "language_info": {
   "codemirror_mode": {
    "name": "ipython",
    "version": 3
   },
   "file_extension": ".py",
   "mimetype": "text/x-python",
   "name": "python",
   "nbconvert_exporter": "python",
   "pygments_lexer": "ipython3",
   "version": "3.9.21"
  }
 },
 "nbformat": 4,
 "nbformat_minor": 2
}
