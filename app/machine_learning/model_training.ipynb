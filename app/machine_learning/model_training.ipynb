{
 "cells": [
  {
   "cell_type": "code",
   "execution_count": 50,
   "metadata": {},
   "outputs": [],
   "source": [
    "import pandas as pd\n",
    "from sklearn.model_selection import train_test_split\n",
    "from sklearn.preprocessing import StandardScaler\n",
    "from sklearn.decomposition import PCA\n",
    "from sklearn.ensemble import RandomForestRegressor\n",
    "from sklearn.metrics import mean_absolute_error"
   ]
  },
  {
   "cell_type": "code",
   "execution_count": 51,
   "metadata": {},
   "outputs": [],
   "source": [
    "df = pd.read_csv('../data/final_data.csv')\n",
    "\n",
    "features = df.drop(columns=['Safety Index'])\n",
    "target = df['Safety Index']"
   ]
  },
  {
   "cell_type": "code",
   "execution_count": 52,
   "metadata": {},
   "outputs": [
    {
     "name": "stdout",
     "output_type": "stream",
     "text": [
      "Performance du modèle avec PCA et Random Forest (R²): 0.09\n"
     ]
    }
   ],
   "source": [
    "def train_model_with_pca(features, target):\n",
    "    scaler = StandardScaler()\n",
    "    features_scaled = scaler.fit_transform(features)\n",
    "\n",
    "    pca = PCA(n_components=5)\n",
    "    features_pca = pca.fit_transform(features_scaled)\n",
    "\n",
    "    X_train, X_test, y_train, y_test = train_test_split(features_pca, target, test_size=0.5, random_state=42)\n",
    "\n",
    "    model = RandomForestRegressor(n_estimators=100, random_state=56)\n",
    "    model.fit(X_train, y_train)\n",
    "\n",
    "    score = model.score(X_test, y_test)\n",
    "    print(f\"Performance du modèle avec PCA et Random Forest (R²): {score:.2f}\")\n",
    "    return model, scaler, pca\n",
    "\n",
    "model, scaler, pca = train_model_with_pca(features, target)"
   ]
  },
  {
   "cell_type": "code",
   "execution_count": 54,
   "metadata": {},
   "outputs": [
    {
     "name": "stdout",
     "output_type": "stream",
     "text": [
      "Liste des articles disponibles :\n",
      "0. local cheese price\n",
      "1. loaf of fresh white bread price\n",
      "2. water price\n",
      "3. onion price\n",
      "4. lettuce price\n",
      "5. oranges price\n",
      "6. cigarettes 20 pack price\n",
      "7. apples price\n",
      "8. rice price\n",
      "9. milk price\n",
      "10. imported beer price\n",
      "11. tomato price\n",
      "12. bottle of wine price\n",
      "13. beef round price\n",
      "14. eggs price\n",
      "15. banana price\n",
      "16. domestic beer price\n",
      "17. potato price\n",
      "18. chicken fillets price\n",
      "\n",
      "Le Safety Index prédit est : 73.65\n"
     ]
    }
   ],
   "source": [
    "def predict_safety_index(model, scaler, pca, item_index, price, features_columns):\n",
    "    features_input = [0] * len(features_columns)\n",
    "    features_input[item_index] = price\n",
    "\n",
    "    features_input_df = pd.DataFrame([features_input], columns=features_columns)\n",
    "\n",
    "    features_input_scaled = scaler.transform(features_input_df)\n",
    "\n",
    "    features_input_pca = pca.transform(features_input_scaled)\n",
    "\n",
    "    predicted_safety_index = model.predict(features_input_pca)\n",
    "    return predicted_safety_index[0]\n",
    "\n",
    "features_columns = features.columns.tolist()\n",
    "print(\"Liste des articles disponibles :\")\n",
    "for i, column in enumerate(features_columns):\n",
    "    print(f\"{i}. {' '.join(column.split('_'))}\")\n",
    "\n",
    "item_index = int(input(\"\\nChoisissez un index d'article : \"))\n",
    "price = float(input(f\"Entrez le prix de '{features_columns[item_index]}' : \"))\n",
    "\n",
    "predicted_safety_index = predict_safety_index(model, scaler, pca, item_index, price, features_columns)\n",
    "print(f\"\\nLe Safety Index prédit est : {predicted_safety_index:.2f}\")\n"
   ]
  }
 ],
 "metadata": {
  "kernelspec": {
   "display_name": "Python 3 (ipykernel)",
   "language": "python",
   "name": "python3"
  },
  "language_info": {
   "codemirror_mode": {
    "name": "ipython",
    "version": 3
   },
   "file_extension": ".py",
   "mimetype": "text/x-python",
   "name": "python",
   "nbconvert_exporter": "python",
   "pygments_lexer": "ipython3",
   "version": "3.9.21"
  }
 },
 "nbformat": 4,
 "nbformat_minor": 2
}
