{
  "cells": [
   {
    "cell_type": "markdown",
    "metadata": {},
    "source": [
     "# Imports"
    ]
   },
   {
    "cell_type": "code",
    "execution_count": 44,
    "metadata": {},
    "outputs": [],
    "source": [
     "import requests\n",
     "from bs4 import BeautifulSoup\n",
     "import pandas\n",
     "import os"
    ]
   },
   {
    "cell_type": "markdown",
    "metadata": {},
    "source": [
     "# Variables"
    ]
   },
   {
    "cell_type": "code",
    "execution_count": 45,
    "metadata": {},
    "outputs": [],
    "source": [
     "link_list = pandas.read_csv('../data/urls_list.csv')\n",
     "urls = link_list['urls']\n",
     "headers = {\n",
     "    'User-Agent': 'Mozilla/5.0 (Windows NT 10.0; Win64; x64) AppleWebKit/537.36 (KHTML, like Gecko) Chrome/91.0.4472.124 Safari/537.36'\n",
     "}\n",
     "clean_urls_list = []"
    ]
   },
   {
    "cell_type": "markdown",
    "metadata": {},
    "source": [
     "# Data Collection"
    ]
   },
   {
    "cell_type": "code",
    "execution_count": null,
    "metadata": {},
    "outputs": [],
    "source": [
     "for url in urls : \n",
     "    response = requests.get(url, headers=headers)\n",
     "    soup = BeautifulSoup(response.content, 'html.parser')\n",
     "    breadcrumb_nav = soup.find(\"nav\", class_=\"breadcrumb\")\n",
     "\n",
     "    if breadcrumb_nav is None:\n",
     "        print(f'{url} is not valid')\n",
     "        continue\n",
     "\n",
     "    breadcrumb_items = breadcrumb_nav.find_all(\"a\", class_=\"breadcrumb_link\")\n",
     "    country = breadcrumb_items[1].text\n",
     "    \n",
     "    if country == 'United States':\n",
     "        clean_urls_list.append(url)\n",
     "        print(f'{url} added to the list')\n",
     "    else : \n",
     "        print(f'{url} concern another country')\n"
    ]
   },
   {
    "cell_type": "markdown",
    "metadata": {},
    "source": [
     "# Save Data"
    ]
   },
   {
    "cell_type": "code",
    "execution_count": 47,
    "metadata": {},
    "outputs": [],
    "source": [
     "project_root = os.path.abspath(os.path.join(os.getcwd(), '..'))\n",
     "output_path = os.path.join(project_root, 'data', 'clean_urls_list.csv')\n",
     "\n",
     "urls_df = pandas.DataFrame({\"urls\" : clean_urls_list})\n",
     "urls_df.to_csv(output_path, index=False)"
    ]
   }
  ],
  "metadata": {
   "kernelspec": {
    "display_name": "Python 3",
    "language": "python",
    "name": "python3"
   },
   "language_info": {
    "codemirror_mode": {
     "name": "ipython",
     "version": 3
    },
    "file_extension": ".py",
    "mimetype": "text/x-python",
    "name": "python",
    "nbconvert_exporter": "python",
    "pygments_lexer": "ipython3",
    "version": "3.9.21"
   }
  },
  "nbformat": 4,
  "nbformat_minor": 2
 }