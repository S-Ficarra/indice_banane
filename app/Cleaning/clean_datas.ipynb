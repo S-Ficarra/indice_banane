{
 "cells": [
  {
   "cell_type": "code",
   "execution_count": 8,
   "metadata": {},
   "outputs": [],
   "source": [
    "import os\n",
    "import pandas as pd"
   ]
  },
  {
   "cell_type": "code",
   "execution_count": 9,
   "metadata": {},
   "outputs": [],
   "source": [
    "folder_path = \"../data/single_datas\""
   ]
  },
  {
   "cell_type": "code",
   "execution_count": 10,
   "metadata": {},
   "outputs": [],
   "source": [
    "def clean_csv(file_path):\n",
    "    try:\n",
    "        df = pd.read_csv(file_path)\n",
    "\n",
    "        df.dropna(how=\"all\", inplace=True)\n",
    "\n",
    "        if \"City\" not in df.columns:\n",
    "            print(f\"no 'City' column in {file_path}.\")\n",
    "            return None\n",
    "\n",
    "        df[\"City\"] = df[\"City\"].str.strip()\n",
    "\n",
    "        price_columns = [col for col in df.columns if \"Price\" in col]\n",
    "\n",
    "        if not price_columns:\n",
    "            print(f\"no price column in {file_path}.\")\n",
    "            return None\n",
    "\n",
    "        for col in price_columns:\n",
    "            df[col] = pd.to_numeric(df[col], errors=\"coerce\")\n",
    "\n",
    "        for col in price_columns:\n",
    "            df = df[(df[col] > 0) & (df[col] < 1000)]\n",
    "\n",
    "        print(f\"{file_path} cleaned\")\n",
    "        return df\n",
    "\n",
    "    except Exception as e:\n",
    "        print(f\"Error in {file_path}: {e}\")\n",
    "        return None\n",
    "\n",
    "\n",
    "\n"
   ]
  },
  {
   "cell_type": "code",
   "execution_count": 11,
   "metadata": {},
   "outputs": [
    {
     "name": "stdout",
     "output_type": "stream",
     "text": [
      "../data/single_datas/bottle_of_wine_price.csv cleaned\n",
      "File saved : ../data/single_datas/bottle_of_wine_price_cleaned.csv\n",
      "../data/single_datas/banana_price.csv cleaned\n",
      "File saved : ../data/single_datas/banana_price_cleaned.csv\n",
      "../data/single_datas/potato_price.csv cleaned\n",
      "File saved : ../data/single_datas/potato_price_cleaned.csv\n",
      "../data/single_datas/milk_price.csv cleaned\n",
      "File saved : ../data/single_datas/milk_price_cleaned.csv\n",
      "../data/single_datas/water_price.csv cleaned\n",
      "File saved : ../data/single_datas/water_price_cleaned.csv\n",
      "../data/single_datas/oranges_price.csv cleaned\n",
      "File saved : ../data/single_datas/oranges_price_cleaned.csv\n",
      "../data/single_datas/lettuce_price.csv cleaned\n",
      "File saved : ../data/single_datas/lettuce_price_cleaned.csv\n",
      "../data/single_datas/loaf_of_fresh_white_bread_price.csv cleaned\n",
      "File saved : ../data/single_datas/loaf_of_fresh_white_bread_price_cleaned.csv\n",
      "../data/single_datas/apples_price.csv cleaned\n",
      "File saved : ../data/single_datas/apples_price_cleaned.csv\n",
      "../data/single_datas/beef_round_price.csv cleaned\n",
      "File saved : ../data/single_datas/beef_round_price_cleaned.csv\n",
      "../data/single_datas/cigarettes_20_pack_price.csv cleaned\n",
      "File saved : ../data/single_datas/cigarettes_20_pack_price_cleaned.csv\n",
      "../data/single_datas/tomato_price.csv cleaned\n",
      "File saved : ../data/single_datas/tomato_price_cleaned.csv\n",
      "../data/single_datas/local_cheese_price.csv cleaned\n",
      "File saved : ../data/single_datas/local_cheese_price_cleaned.csv\n",
      "../data/single_datas/rice_price.csv cleaned\n",
      "File saved : ../data/single_datas/rice_price_cleaned.csv\n",
      "../data/single_datas/domestic_beer_price.csv cleaned\n",
      "File saved : ../data/single_datas/domestic_beer_price_cleaned.csv\n",
      "../data/single_datas/imported_beer_price.csv cleaned\n",
      "File saved : ../data/single_datas/imported_beer_price_cleaned.csv\n",
      "../data/single_datas/eggs_price.csv cleaned\n",
      "File saved : ../data/single_datas/eggs_price_cleaned.csv\n",
      "../data/single_datas/chicken_fillets_price.csv cleaned\n",
      "File saved : ../data/single_datas/chicken_fillets_price_cleaned.csv\n",
      "../data/single_datas/onion_price.csv cleaned\n",
      "File saved : ../data/single_datas/onion_price_cleaned.csv\n"
     ]
    }
   ],
   "source": [
    "for file in os.listdir(folder_path):\n",
    "    if file.endswith(\".csv\") and not file.endswith(\"_cleaned.csv\"):\n",
    "        file_path = os.path.join(folder_path, file)\n",
    "        cleaned_df = clean_csv(file_path)\n",
    "\n",
    "        if cleaned_df is not None:\n",
    "            cleaned_file_path = os.path.join(folder_path, file.replace(\".csv\", \"_cleaned.csv\"))\n",
    "\n",
    "            if os.path.exists(cleaned_file_path):\n",
    "                os.remove(cleaned_file_path)\n",
    "\n",
    "            cleaned_df.to_csv(cleaned_file_path, index=False)\n",
    "            print(f\"File saved : {cleaned_file_path}\")"
   ]
  }
 ],
 "metadata": {
  "kernelspec": {
   "display_name": "Python 3 (ipykernel)",
   "language": "python",
   "name": "python3"
  },
  "language_info": {
   "codemirror_mode": {
    "name": "ipython",
    "version": 3
   },
   "file_extension": ".py",
   "mimetype": "text/x-python",
   "name": "python",
   "nbconvert_exporter": "python",
   "pygments_lexer": "ipython3",
   "version": "3.9.21"
  }
 },
 "nbformat": 4,
 "nbformat_minor": 2
}
