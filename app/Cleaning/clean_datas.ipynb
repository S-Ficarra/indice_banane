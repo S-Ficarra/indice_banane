{
 "cells": [
  {
   "cell_type": "code",
   "execution_count": 22,
   "metadata": {},
   "outputs": [],
   "source": [
    "import os\n",
    "import pandas as pd"
   ]
  },
  {
   "cell_type": "code",
   "execution_count": 23,
   "metadata": {},
   "outputs": [],
   "source": [
    "folder_path = \"../data/single_datas\""
   ]
  },
  {
   "cell_type": "code",
   "execution_count": 28,
   "metadata": {},
   "outputs": [],
   "source": [
    "def clean_csv(file_path, column_type=\"Price\"):\n",
    "    try:\n",
    "        df = pd.read_csv(file_path)\n",
    "\n",
    "        df.dropna(how=\"all\", inplace=True)\n",
    "\n",
    "        if \"City\" not in df.columns:\n",
    "            print(f\"No 'City' column in {file_path}.\")\n",
    "            return None\n",
    "\n",
    "        df[\"City\"] = df[\"City\"].str.strip()\n",
    "\n",
    "        if column_type == \"Price\":\n",
    "            column_name_pattern = \"Price\"\n",
    "        elif column_type == \"Safety Index\":\n",
    "            column_name_pattern = \"Safety Index\"\n",
    "        else:\n",
    "            print(f\"Invalid column type: {column_type}. Expected 'Price' or 'Safety Index'.\")\n",
    "            return None\n",
    "\n",
    "        value_columns = [col for col in df.columns if column_name_pattern in col]\n",
    "\n",
    "        if not value_columns:\n",
    "            print(f\"No {column_type} column in {file_path}.\")\n",
    "            return None\n",
    "\n",
    "        for col in value_columns:\n",
    "            df[col] = pd.to_numeric(df[col], errors=\"coerce\")\n",
    "\n",
    "        if column_type == \"Price\":\n",
    "            for col in value_columns:\n",
    "                df = df[(df[col] > 0) & (df[col] < 1000)]\n",
    "        elif column_type == \"Safety Index\":\n",
    "            for col in value_columns:\n",
    "                df = df[(df[col] >= 0) & (df[col] <= 100)]\n",
    "\n",
    "        print(f\"{file_path} cleaned (Column Type: {column_type})\")\n",
    "        return df\n",
    "\n",
    "    except Exception as e:\n",
    "        print(f\"Error in {file_path}: {e}\")\n",
    "        return None"
   ]
  },
  {
   "cell_type": "code",
   "execution_count": null,
   "metadata": {},
   "outputs": [],
   "source": [
    "for file in os.listdir(folder_path):\n",
    "    if file.endswith(\".csv\") and not file.endswith(\"_cleaned.csv\"):\n",
    "        file_path = os.path.join(folder_path, file)\n",
    "        cleaned_df = clean_csv(file_path)\n",
    "\n",
    "        if cleaned_df is not None:\n",
    "            cleaned_file_path = os.path.join(folder_path, file.replace(\".csv\", \"_cleaned.csv\"))\n",
    "\n",
    "            if os.path.exists(cleaned_file_path):\n",
    "                os.remove(cleaned_file_path)\n",
    "\n",
    "            cleaned_df.to_csv(cleaned_file_path, index=False)\n",
    "            print(f\"File saved : {cleaned_file_path}\")"
   ]
  },
  {
   "cell_type": "code",
   "execution_count": 29,
   "metadata": {},
   "outputs": [],
   "source": [
    "import pandas as pd\n",
    "\n",
    "def clean_csv(file_path):\n",
    "    try:\n",
    "        df = pd.read_csv(file_path)\n",
    "\n",
    "        df.dropna(how=\"all\", inplace=True)\n",
    "\n",
    "        if \"City\" not in df.columns:\n",
    "            print(f\"No 'City' column in {file_path}.\")\n",
    "            return None\n",
    "\n",
    "        df[\"City\"] = df[\"City\"].str.strip()\n",
    "\n",
    "        if df.columns[1] != \"Safety Index\":\n",
    "            print(f\"The second column in {file_path} is not 'Safety Index'.\")\n",
    "            return None\n",
    "\n",
    "        df[\"Safety Index\"] = pd.to_numeric(df[\"Safety Index\"], errors=\"coerce\")\n",
    "\n",
    "        df = df[(df[\"Safety Index\"] >= 0) & (df[\"Safety Index\"] <= 100)]\n",
    "\n",
    "        print(f\"{file_path} cleaned (Safety Index as second column)\")\n",
    "        return df\n",
    "\n",
    "    except Exception as e:\n",
    "        print(f\"Error in {file_path}: {e}\")\n",
    "        return None\n"
   ]
  },
  {
   "cell_type": "code",
   "execution_count": 30,
   "metadata": {},
   "outputs": [
    {
     "name": "stdout",
     "output_type": "stream",
     "text": [
      "../data/safety_index_by_city.csv cleaned (Safety Index as second column)\n",
      "File saved: ../data/safety_index_by_city_cleaned.csv\n"
     ]
    }
   ],
   "source": [
    "file_path = os.path.join(\"../data/\", \"safety_index_by_city.csv\")\n",
    "\n",
    "cleaned_df = clean_csv(file_path)\n",
    "\n",
    "file_name = os.path.basename(file_path)\n",
    "cleaned_file_path = os.path.join(os.path.dirname(file_path), file_name.replace(\".csv\", \"_cleaned.csv\"))\n",
    "\n",
    "if cleaned_df is not None:\n",
    "    cleaned_df.to_csv(cleaned_file_path, index=False)\n",
    "    print(f\"File saved: {cleaned_file_path}\")"
   ]
  }
 ],
 "metadata": {
  "kernelspec": {
   "display_name": "Python 3 (ipykernel)",
   "language": "python",
   "name": "python3"
  },
  "language_info": {
   "codemirror_mode": {
    "name": "ipython",
    "version": 3
   },
   "file_extension": ".py",
   "mimetype": "text/x-python",
   "name": "python",
   "nbconvert_exporter": "python",
   "pygments_lexer": "ipython3",
   "version": "3.9.21"
  }
 },
 "nbformat": 4,
 "nbformat_minor": 2
}
