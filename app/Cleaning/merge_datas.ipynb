{
 "cells": [
  {
   "cell_type": "code",
   "execution_count": 7,
   "metadata": {},
   "outputs": [],
   "source": [
    "import os\n",
    "import pandas as pd"
   ]
  },
  {
   "cell_type": "code",
   "execution_count": 8,
   "metadata": {},
   "outputs": [],
   "source": [
    "FOLDER_PATH = \"../data/single_datas\"\n",
    "OUTPUT_FILE = \"../data/merged_prices.csv\""
   ]
  },
  {
   "cell_type": "code",
   "execution_count": 10,
   "metadata": {},
   "outputs": [],
   "source": [
    "def load_cleaned_files(folder_path):\n",
    "    dfs = []\n",
    "    column_names = []\n",
    "\n",
    "    for file in os.listdir(folder_path):\n",
    "        if file.endswith(\"_cleaned.csv\"):  \n",
    "            file_path = os.path.join(folder_path, file)\n",
    "            column_name = file.replace(\"_cleaned.csv\", \"\")\n",
    "\n",
    "            df = pd.read_csv(file_path)\n",
    "\n",
    "            if \"City\" not in df.columns:\n",
    "                print(f\"no column 'City' in {file_path}.\")\n",
    "                continue\n",
    "\n",
    "            price_columns = [col for col in df.columns if col != \"City\"]\n",
    "            if not price_columns:\n",
    "                print(f\"no column price {file_path}.\")\n",
    "                continue\n",
    "\n",
    "            df = df.rename(columns={price_columns[0]: column_name})\n",
    "\n",
    "            df = df.drop_duplicates(subset=\"City\")\n",
    "\n",
    "            dfs.append(df[[\"City\", column_name]])\n",
    "            column_names.append(column_name)\n",
    "\n",
    "            safety_index_file = \"../data/safety_index_by_city_cleaned.csv\"\n",
    "    \n",
    "    if os.path.exists(safety_index_file):\n",
    "        df_safety = pd.read_csv(safety_index_file)\n",
    "\n",
    "        if \"City\" not in df_safety.columns:\n",
    "            print(f\"No 'City' column in {safety_index_file}.\")\n",
    "        else:\n",
    "            column_name = \"Safety Index\"\n",
    "            df_safety = df_safety.rename(columns={df_safety.columns[1]: column_name})\n",
    "            df_safety = df_safety.drop_duplicates(subset=\"City\")\n",
    "            dfs.append(df_safety[[\"City\", column_name]])\n",
    "            column_names.append(column_name)\n",
    "    else:\n",
    "        print(f\"Safety index file not found: {safety_index_file}\")\n",
    "\n",
    "    return dfs, column_names"
   ]
  },
  {
   "cell_type": "code",
   "execution_count": 11,
   "metadata": {},
   "outputs": [],
   "source": [
    "def merge_dataframes(dfs):\n",
    "    if not dfs:\n",
    "        print(\"no file _cleaned.csv found\")\n",
    "        return None\n",
    "\n",
    "    merged_df = dfs[0]\n",
    "    for df in dfs[1:]:\n",
    "        merged_df = pd.merge(merged_df, df, on=\"City\", how=\"outer\")\n",
    "\n",
    "    return merged_df.drop(columns=[\"City\"])"
   ]
  },
  {
   "cell_type": "code",
   "execution_count": 12,
   "metadata": {},
   "outputs": [],
   "source": [
    "def save_merged_file(merged_df, output_path):\n",
    "    if merged_df is not None:\n",
    "        os.makedirs(os.path.dirname(output_path), exist_ok=True)\n",
    "        merged_df.to_csv(output_path, index=False)\n",
    "        print(f\"file saved : {output_path}\")\n",
    "    else:\n",
    "        print(\"no file to save\")"
   ]
  },
  {
   "cell_type": "code",
   "execution_count": 13,
   "metadata": {},
   "outputs": [
    {
     "name": "stdout",
     "output_type": "stream",
     "text": [
      "file saved : ../data/merged_prices.csv\n"
     ]
    }
   ],
   "source": [
    "dfs, column_names = load_cleaned_files(FOLDER_PATH)\n",
    "merged_df = merge_dataframes(dfs)\n",
    "save_merged_file(merged_df, OUTPUT_FILE)"
   ]
  }
 ],
 "metadata": {
  "kernelspec": {
   "display_name": "Python 3 (ipykernel)",
   "language": "python",
   "name": "python3"
  },
  "language_info": {
   "codemirror_mode": {
    "name": "ipython",
    "version": 3
   },
   "file_extension": ".py",
   "mimetype": "text/x-python",
   "name": "python",
   "nbconvert_exporter": "python",
   "pygments_lexer": "ipython3",
   "version": "3.9.21"
  }
 },
 "nbformat": 4,
 "nbformat_minor": 2
}
